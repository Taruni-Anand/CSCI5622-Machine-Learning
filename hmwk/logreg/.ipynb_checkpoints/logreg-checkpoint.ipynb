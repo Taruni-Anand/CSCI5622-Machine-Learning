{
 "cells": [
  {
   "cell_type": "markdown",
   "metadata": {},
   "source": [
    "# Logistic Regression and SGD Homework \n",
    "***\n",
    "**Name**: Tarunianand Muruganandan \n",
    "***\n",
    "\n",
    "This assignment is due on Moodle by **5pm on Friday February 9th**. Submit only this Jupyter notebook to Moodle.  Do not compress it using tar, rar, zip, etc. Your solutions to analysis questions should be done in Markdown directly below the associated question.  Remember that you are encouraged to discuss the problems with your instructors and classmates, but **you must write all code and solutions on your own**.  For a refresher on the course **Collaboration Policy** click [here](https://github.com/chrisketelsen/CSCI5622-Machine-Learning/blob/master/resources/syllabus.md#collaboration-policy)\n",
    "\n"
   ]
  },
  {
   "cell_type": "markdown",
   "metadata": {},
   "source": [
    "## Overview \n",
    "***\n",
    "\n",
    "\n",
    "In this homework you'll implement stochastic gradient ascent for logistic regression and you'll apply it to the task of determining whether documents are talking about automobiles or motorcycles.\n",
    "\n",
    "<br>\n",
    "\n",
    "![autos_motorcycles](autos_motorcycles.jpg \"A car and a motorcycle\")\n",
    "\n",
    "\n",
    "<br>\n",
    "\n",
    "You should not use any libraries that implement any of the functionality of logistic regression for this assignment; logistic regression is implemented in Scikit-Learn, but you should do everything by hand now. You'll be able to use library implementations of logistic regression in the future.\n",
    "\n",
    "Here are the rules: \n",
    "\n",
    "- Do **NOT** load or use any Python packages that are not available in Anaconda 3.6. \n",
    "- Some problems with code may be autograded.  If we provide a function or class API **do not** change it.\n",
    "- Do not change the location of the data or data directory.  Use only relative paths to access the data. "
   ]
  },
  {
   "cell_type": "code",
   "execution_count": 54,
   "metadata": {
    "collapsed": true
   },
   "outputs": [],
   "source": [
    "import numpy as np\n",
    "import matplotlib.pylab as plt\n",
    "%matplotlib inline "
   ]
  },
  {
   "cell_type": "markdown",
   "metadata": {},
   "source": [
    "### [5 points] Problem 1: Loading and Exploring the Data\n",
    "***\n",
    "\n",
    "The `Example` class will be used to store the features and labels associated with a single training or test example.  The `read_data` function will read in the text data and split it into training and test sets.  \n",
    "\n",
    " Load the data and then do the following: \n",
    "- Report the number of words in the vocabulary \n",
    "- Explain how the code is creating features (i.e. what text model is being used). \n",
    "- Go into the raw text files in the data directory and figure out which label (0/1) refers to which class of document (automobiles or motorcycles)"
   ]
  },
  {
   "cell_type": "code",
   "execution_count": 55,
   "metadata": {
    "collapsed": true
   },
   "outputs": [],
   "source": [
    "kSEED = 1735\n",
    "kBIAS = \"BIAS_CONSTANT\"\n",
    "\n",
    "np.random.seed(kSEED)\n",
    "\n",
    "class Example:\n",
    "    \"\"\"\n",
    "    Class to represent a document example\n",
    "    \"\"\"\n",
    "    def __init__(self, label, words, vocab):\n",
    "        \"\"\"\n",
    "        Create a new example\n",
    "\n",
    "        :param label: The label (0 / 1) of the example\n",
    "        :param words: The words in a list of \"word:count\" format\n",
    "        :param vocab: The vocabulary to use as features (list)\n",
    "        \"\"\"\n",
    "        self.nonzero = {}\n",
    "        self.y = label\n",
    "        self.x = np.zeros(len(vocab))\n",
    "        for word, count in [x.split(\":\") for x in words]:\n",
    "            if word in vocab:\n",
    "                assert word != kBIAS, \"Bias can't actually appear in document\"\n",
    "                self.x[vocab.index(word)] += float(count)\n",
    "                self.nonzero[vocab.index(word)] = word\n",
    "        self.x[0] = 1\n",
    "\n",
    "def read_dataset(positive, negative, vocab, train_frac=0.9):\n",
    "    \"\"\"\n",
    "    Reads in a text dataset with a given vocabulary\n",
    "\n",
    "    :param positive: Positive examples\n",
    "    :param negative: Negative examples\n",
    "    :param vocab: A list of vocabulary words\n",
    "    :param test_frac: How much of the data should be reserved for test\n",
    "    \"\"\"\n",
    "\n",
    "    vocab = [x.split(\"\\t\")[0] for x in open(vocab, 'r') if '\\t' in x]\n",
    "    assert vocab[0] == kBIAS, \\\n",
    "        \"First vocab word must be bias term (was %s)\" % vocab[0]\n",
    "\n",
    "    train_set = []\n",
    "    test_set = []\n",
    "    for label, input in [(1, positive), (0, negative)]:\n",
    "        for line in open(input):\n",
    "            ex = Example(label, line.split(), vocab)\n",
    "            if np.random.random() <= train_frac:\n",
    "                train_set.append(ex)\n",
    "            else:\n",
    "                test_set.append(ex)\n",
    "\n",
    "    # Shuffle the data \n",
    "    np.random.shuffle(train_set)\n",
    "    np.random.shuffle(test_set)\n",
    "\n",
    "    return train_set, test_set, vocab"
   ]
  },
  {
   "cell_type": "code",
   "execution_count": 56,
   "metadata": {
    "collapsed": true
   },
   "outputs": [],
   "source": [
    "pos_fname = \"../data/autos_motorcycles/positive\"\n",
    "neg_fname = \"../data/autos_motorcycles/negative\"\n",
    "voc_fname = \"../data/autos_motorcycles/vocab\"\n",
    "train_set, test_set, vocab = read_dataset(pos_fname, neg_fname, voc_fname)"
   ]
  },
  {
   "cell_type": "code",
   "execution_count": 57,
   "metadata": {
    "collapsed": true
   },
   "outputs": [
    {
     "name": "stdout",
     "output_type": "stream",
     "text": [
      "Number of words in the vocabulary:\n",
      "5326\n"
     ]
    }
   ],
   "source": [
    "print('Number of words in the vocabulary:')\n",
    "print(len(vocab)-1)#excluding the bias"
   ]
  },
  {
   "cell_type": "markdown",
   "metadata": {},
   "source": [
    "The features are produced using the bag of words model. Label 0 corresponds to automobiles and label 1 corresponds to motorcycles.\n"
   ]
  },
  {
   "cell_type": "markdown",
   "metadata": {},
   "source": [
    "### [25 points] Problem 2: Implementing SGD with Lazy Sparse Regularization\n",
    "***\n",
    "\n",
    "We've given you a class `LogReg` below which will train a logistic regression classifier to predict whether a document is talking about automobiles or motorcycles. \n",
    "\n",
    "**Part A**: In this problem you will modify the `sgd_update` function to perform **unregularized** stochastic gradient descent updates of the weights. Note that you should only update the weights for **non-zero** features, i.e. weights associated with words that appear in the current training example. The code below this cell demonstrates how to instantiate the class and train the classifier.   \n",
    "\n",
    "We've also given you unit tests in the next cell based on the simple example worked out in  the Lecture 4 in-class notebook.  At first your code will fail both of them. When your code is working you should pass tests called `test_unreg` and `test_learnrate`.  Do not move on to **Part A** until your code passes both of them. "
   ]
  },
  {
   "cell_type": "markdown",
   "metadata": {},
   "source": []
  },
  {
   "cell_type": "code",
   "execution_count": 58,
   "metadata": {
    "collapsed": true
   },
   "outputs": [],
   "source": [
    "class LogReg:\n",
    "    def __init__(self, train_set, test_set, lam, eta=0.1):\n",
    "        \"\"\"\n",
    "        Create a logistic regression classifier\n",
    "\n",
    "        :param train_set: A set of training examples\n",
    "        :param test_set: A set of test examples \n",
    "        :param lam: Regularization parameter\n",
    "        :param eta: The learning rate to use \n",
    "        \"\"\"\n",
    "        \n",
    "        # Store training and test sets \n",
    "        self.train_set = train_set\n",
    "        self.test_set = test_set \n",
    "        \n",
    "        # Initialize vector of weights to zero  \n",
    "        self.w = np.zeros_like(train_set[0].x)\n",
    "        \n",
    "        # Store regularization parameter and eta function \n",
    "        self.lam = lam\n",
    "        self.eta = eta\n",
    "        \n",
    "        # Create dictionary for lazy-sparse regularization\n",
    "        self.last_update = dict()\n",
    "\n",
    "        # Make sure regularization parameter is not negative \n",
    "        assert self.lam>= 0, \"Regularization parameter must be non-negative\"\n",
    "        \n",
    "        # Empty lists to store NLL and accuracy on train and test sets \n",
    "        self.train_nll = []\n",
    "        self.test_nll = []\n",
    "        self.train_acc = []\n",
    "        self.test_acc = []\n",
    "        \n",
    "    def sigmoid(self,score, threshold=20.0):\n",
    "        \"\"\"\n",
    "        Prevent overflow of exp by capping activation at 20.\n",
    "        You do not need to change this function. \n",
    "\n",
    "        :param score: A real valued number to convert into a number between 0 and 1\n",
    "        \"\"\"\n",
    "\n",
    "        # if score > threshold, cap value at score \n",
    "        if abs(score) > threshold:\n",
    "            score = threshold * np.sign(score)\n",
    "\n",
    "        return 1.0 / (1.0 + np.exp(-score)) \n",
    "\n",
    "    def compute_progress(self, examples):\n",
    "        \"\"\"\n",
    "        Given a set of examples, compute the NLL and accuracy\n",
    "        You shouldn't need to change this function. \n",
    "\n",
    "        :param examples: The dataset to score\n",
    "        :return: A tuple of (log probability, accuracy)\n",
    "        \"\"\"\n",
    "\n",
    "        NLL = 0.0\n",
    "        num_correct = 0\n",
    "        for ex in examples:\n",
    "            # compute prob prediction\n",
    "            p = self.sigmoid(self.w.dot(ex.x))\n",
    "            # update negative log likelihood\n",
    "            NLL = NLL - np.log(p) if ex.y==1 else NLL - np.log(1.0-p)\n",
    "            # update number correct \n",
    "            num_correct += 1 if np.floor(p+.5)==ex.y else 0\n",
    "\n",
    "        return NLL, float(num_correct) / float(len(examples))\n",
    "    \n",
    "    def train(self, num_epochs=1, isVerbose=False, report_step=5):\n",
    "        \"\"\"\n",
    "        Train the logistic regression classifier on the training data \n",
    "\n",
    "        :param num_epochs: number of full passes over data to perform \n",
    "        :param isVerbose: boolean indicating whether to print progress\n",
    "        :param report_step: how many iterations between recording progress\n",
    "        \"\"\"\n",
    "        iteration = 0\n",
    "        # Perform an epoch \n",
    "        for pp in range(num_epochs):\n",
    "            # shuffle the data  \n",
    "            np.random.shuffle(self.train_set)\n",
    "            # loop over each training example\n",
    "            for ex in self.train_set:\n",
    "                # perform SGD update of weights \n",
    "                self.sgd_update(ex, iteration)\n",
    "                # record progress \n",
    "                if iteration % report_step == 1:\n",
    "                    train_nll, train_acc = self.compute_progress(self.train_set)\n",
    "                    test_nll, test_acc = self.compute_progress(self.test_set)\n",
    "                    self.train_nll.append(train_nll)\n",
    "                    self.test_nll.append(test_nll)\n",
    "                    self.train_acc.append(train_acc)\n",
    "                    self.test_acc.append(test_acc)\n",
    "                    if isVerbose:\n",
    "                        print(\"Update {: 5d}  TrnNLL {: 8.3f}  TstNLL {: 8.3f}  TrnA {:.3f}  TstA {:.3f}\"\n",
    "                             .format(iteration-1, train_nll, test_nll, train_acc, test_acc))\n",
    "                iteration += 1\n",
    "    \n",
    "    def sgd_update(self, train_example, iteration):\n",
    "        \"\"\"\n",
    "        Compute a stochastic gradient update to improve the NLL \n",
    "\n",
    "        :param train_example: The example to take the gradient with respect to\n",
    "        :param iteration: The current iteration (an integer)\n",
    "        \"\"\"\n",
    "        if iteration==0:\n",
    "            for i,_ in enumerate(self.w):\n",
    "                self.last_update[i]=1\n",
    "        w=sum(i*j for i,j in zip(self.w,train_example.x))\n",
    "        #w = np.inner(self.w, train_example.x)\n",
    "        n= self.sigmoid(w) - train_example.y\n",
    "        for i, iw in enumerate(self.w):\n",
    "            if train_example.x[i]!=0:\n",
    "                self.w[i]=self.w[i]-self.eta*n*train_example.x[i]\n",
    "                if i!=0:\n",
    "                    s=1-(2*self.eta*self.lam)\n",
    "                    self.w[i] = self.w[i]*pow(s,self.last_update[i])\n",
    "            elif i!=0:\n",
    "                self.last_update[i]+=1\n",
    "        \n",
    "        # TODO implement LSR updates of weights \n",
    "        self.w = self.w \n",
    "        "
   ]
  },
  {
   "cell_type": "code",
   "execution_count": 59,
   "metadata": {},
   "outputs": [
    {
     "name": "stdout",
     "output_type": "stream",
     "text": [
      "Update     0  TrnNLL  799.294  TstNLL   81.287  TrnA 0.498  TstA 0.534\n",
      "Update     5  TrnNLL  679.659  TstNLL   67.393  TrnA 0.635  TstA 0.664\n",
      "Update    10  TrnNLL  3699.404  TstNLL  364.627  TrnA 0.510  TstA 0.552\n",
      "Update    15  TrnNLL  3376.659  TstNLL  330.103  TrnA 0.523  TstA 0.560\n",
      "Update    20  TrnNLL  2480.028  TstNLL  244.475  TrnA 0.553  TstA 0.586\n",
      "Update    25  TrnNLL  2445.886  TstNLL  242.589  TrnA 0.559  TstA 0.586\n",
      "Update    30  TrnNLL  1404.998  TstNLL  147.011  TrnA 0.663  TstA 0.647\n",
      "Update    35  TrnNLL  957.733  TstNLL  106.194  TrnA 0.734  TstA 0.724\n",
      "Update    40  TrnNLL  521.316  TstNLL   69.788  TrnA 0.819  TstA 0.784\n",
      "Update    45  TrnNLL  467.808  TstNLL   57.568  TrnA 0.839  TstA 0.819\n",
      "Update    50  TrnNLL  459.871  TstNLL   57.341  TrnA 0.842  TstA 0.819\n",
      "Update    55  TrnNLL  442.292  TstNLL   57.689  TrnA 0.847  TstA 0.793\n",
      "Update    60  TrnNLL  431.716  TstNLL   54.376  TrnA 0.853  TstA 0.819\n",
      "Update    65  TrnNLL  431.508  TstNLL   54.356  TrnA 0.853  TstA 0.819\n",
      "Update    70  TrnNLL  440.793  TstNLL   53.628  TrnA 0.853  TstA 0.828\n",
      "Update    75  TrnNLL  434.320  TstNLL   52.510  TrnA 0.852  TstA 0.828\n",
      "Update    80  TrnNLL  431.693  TstNLL   52.526  TrnA 0.852  TstA 0.819\n",
      "Update    85  TrnNLL  413.001  TstNLL   52.196  TrnA 0.867  TstA 0.819\n",
      "Update    90  TrnNLL  417.334  TstNLL   52.785  TrnA 0.870  TstA 0.828\n",
      "Update    95  TrnNLL  417.510  TstNLL   52.784  TrnA 0.871  TstA 0.828\n",
      "Update   100  TrnNLL  403.832  TstNLL   53.769  TrnA 0.876  TstA 0.810\n",
      "Update   105  TrnNLL  408.219  TstNLL   52.755  TrnA 0.872  TstA 0.836\n",
      "Update   110  TrnNLL  407.305  TstNLL   51.627  TrnA 0.869  TstA 0.836\n",
      "Update   115  TrnNLL  407.473  TstNLL   51.465  TrnA 0.868  TstA 0.836\n",
      "Update   120  TrnNLL  406.793  TstNLL   51.884  TrnA 0.868  TstA 0.836\n",
      "Update   125  TrnNLL  408.056  TstNLL   51.624  TrnA 0.867  TstA 0.853\n",
      "Update   130  TrnNLL  396.196  TstNLL   51.108  TrnA 0.882  TstA 0.836\n",
      "Update   135  TrnNLL  393.327  TstNLL   51.181  TrnA 0.873  TstA 0.853\n",
      "Update   140  TrnNLL  396.583  TstNLL   51.385  TrnA 0.869  TstA 0.853\n",
      "Update   145  TrnNLL  396.850  TstNLL   51.368  TrnA 0.868  TstA 0.853\n",
      "Update   150  TrnNLL  381.582  TstNLL   50.592  TrnA 0.879  TstA 0.845\n",
      "Update   155  TrnNLL  380.457  TstNLL   50.495  TrnA 0.878  TstA 0.845\n",
      "Update   160  TrnNLL  364.866  TstNLL   49.091  TrnA 0.884  TstA 0.845\n",
      "Update   165  TrnNLL  371.094  TstNLL   49.074  TrnA 0.878  TstA 0.845\n",
      "Update   170  TrnNLL  352.539  TstNLL   49.064  TrnA 0.891  TstA 0.845\n",
      "Update   175  TrnNLL  349.399  TstNLL   50.549  TrnA 0.892  TstA 0.836\n",
      "Update   180  TrnNLL  347.897  TstNLL   46.515  TrnA 0.887  TstA 0.845\n",
      "Update   185  TrnNLL  348.623  TstNLL   46.515  TrnA 0.885  TstA 0.845\n",
      "Update   190  TrnNLL  326.232  TstNLL   45.014  TrnA 0.898  TstA 0.853\n",
      "Update   195  TrnNLL  317.271  TstNLL   44.773  TrnA 0.900  TstA 0.862\n",
      "Update   200  TrnNLL  316.373  TstNLL   44.161  TrnA 0.902  TstA 0.862\n",
      "Update   205  TrnNLL  315.976  TstNLL   44.383  TrnA 0.902  TstA 0.862\n",
      "Update   210  TrnNLL  318.237  TstNLL   41.272  TrnA 0.900  TstA 0.853\n",
      "Update   215  TrnNLL  324.628  TstNLL   41.671  TrnA 0.896  TstA 0.853\n",
      "Update   220  TrnNLL  325.637  TstNLL   41.632  TrnA 0.897  TstA 0.845\n",
      "Update   225  TrnNLL  323.648  TstNLL   41.712  TrnA 0.898  TstA 0.853\n",
      "Update   230  TrnNLL  447.288  TstNLL   56.463  TrnA 0.866  TstA 0.836\n",
      "Update   235  TrnNLL  315.888  TstNLL   43.470  TrnA 0.896  TstA 0.828\n",
      "Update   240  TrnNLL  319.719  TstNLL   43.775  TrnA 0.896  TstA 0.828\n",
      "Update   245  TrnNLL  306.191  TstNLL   42.162  TrnA 0.900  TstA 0.845\n",
      "Update   250  TrnNLL  279.726  TstNLL   38.328  TrnA 0.909  TstA 0.836\n",
      "Update   255  TrnNLL  279.698  TstNLL   38.242  TrnA 0.909  TstA 0.836\n",
      "Update   260  TrnNLL  279.376  TstNLL   38.292  TrnA 0.908  TstA 0.836\n",
      "Update   265  TrnNLL  275.963  TstNLL   38.550  TrnA 0.911  TstA 0.862\n",
      "Update   270  TrnNLL  276.922  TstNLL   39.063  TrnA 0.911  TstA 0.853\n",
      "Update   275  TrnNLL  276.347  TstNLL   39.076  TrnA 0.913  TstA 0.853\n",
      "Update   280  TrnNLL  278.368  TstNLL   40.132  TrnA 0.914  TstA 0.853\n",
      "Update   285  TrnNLL  276.085  TstNLL   39.733  TrnA 0.912  TstA 0.853\n",
      "Update   290  TrnNLL  273.095  TstNLL   39.272  TrnA 0.914  TstA 0.862\n",
      "Update   295  TrnNLL  288.861  TstNLL   43.652  TrnA 0.911  TstA 0.853\n",
      "Update   300  TrnNLL  281.250  TstNLL   39.887  TrnA 0.908  TstA 0.862\n",
      "Update   305  TrnNLL  274.422  TstNLL   38.961  TrnA 0.908  TstA 0.862\n",
      "Update   310  TrnNLL  275.836  TstNLL   39.274  TrnA 0.908  TstA 0.862\n",
      "Update   315  TrnNLL  275.999  TstNLL   39.287  TrnA 0.908  TstA 0.862\n",
      "Update   320  TrnNLL  254.268  TstNLL   35.097  TrnA 0.913  TstA 0.862\n",
      "Update   325  TrnNLL  241.422  TstNLL   33.194  TrnA 0.918  TstA 0.862\n",
      "Update   330  TrnNLL  241.767  TstNLL   33.296  TrnA 0.918  TstA 0.862\n",
      "Update   335  TrnNLL  244.010  TstNLL   33.767  TrnA 0.917  TstA 0.862\n",
      "Update   340  TrnNLL  244.701  TstNLL   33.975  TrnA 0.917  TstA 0.862\n",
      "Update   345  TrnNLL  245.676  TstNLL   34.124  TrnA 0.917  TstA 0.862\n",
      "Update   350  TrnNLL  239.143  TstNLL   33.187  TrnA 0.920  TstA 0.871\n",
      "Update   355  TrnNLL  239.876  TstNLL   33.309  TrnA 0.920  TstA 0.871\n",
      "Update   360  TrnNLL  230.222  TstNLL   32.641  TrnA 0.920  TstA 0.871\n",
      "Update   365  TrnNLL  233.256  TstNLL   33.558  TrnA 0.917  TstA 0.871\n",
      "Update   370  TrnNLL  227.781  TstNLL   32.133  TrnA 0.923  TstA 0.862\n",
      "Update   375  TrnNLL  227.846  TstNLL   32.146  TrnA 0.923  TstA 0.862\n",
      "Update   380  TrnNLL  215.595  TstNLL   29.519  TrnA 0.924  TstA 0.879\n",
      "Update   385  TrnNLL  212.521  TstNLL   28.859  TrnA 0.923  TstA 0.888\n",
      "Update   390  TrnNLL  205.780  TstNLL   28.505  TrnA 0.926  TstA 0.897\n",
      "Update   395  TrnNLL  205.407  TstNLL   28.064  TrnA 0.928  TstA 0.888\n",
      "Update   400  TrnNLL  203.750  TstNLL   27.393  TrnA 0.928  TstA 0.888\n",
      "Update   405  TrnNLL  203.804  TstNLL   27.413  TrnA 0.928  TstA 0.888\n",
      "Update   410  TrnNLL  203.769  TstNLL   27.406  TrnA 0.928  TstA 0.888\n",
      "Update   415  TrnNLL  203.211  TstNLL   27.422  TrnA 0.928  TstA 0.888\n",
      "Update   420  TrnNLL  204.275  TstNLL   28.045  TrnA 0.926  TstA 0.888\n",
      "Update   425  TrnNLL  204.279  TstNLL   28.045  TrnA 0.926  TstA 0.888\n",
      "Update   430  TrnNLL  205.256  TstNLL   28.263  TrnA 0.925  TstA 0.879\n",
      "Update   435  TrnNLL  204.803  TstNLL   28.154  TrnA 0.925  TstA 0.879\n",
      "Update   440  TrnNLL  205.324  TstNLL   28.332  TrnA 0.926  TstA 0.879\n",
      "Update   445  TrnNLL  204.075  TstNLL   27.428  TrnA 0.926  TstA 0.897\n",
      "Update   450  TrnNLL  202.007  TstNLL   27.042  TrnA 0.926  TstA 0.888\n",
      "Update   455  TrnNLL  197.296  TstNLL   25.242  TrnA 0.928  TstA 0.879\n",
      "Update   460  TrnNLL  188.649  TstNLL   24.706  TrnA 0.939  TstA 0.897\n",
      "Update   465  TrnNLL  182.770  TstNLL   24.299  TrnA 0.936  TstA 0.905\n",
      "Update   470  TrnNLL  192.155  TstNLL   24.790  TrnA 0.940  TstA 0.914\n",
      "Update   475  TrnNLL  186.321  TstNLL   23.852  TrnA 0.940  TstA 0.922\n",
      "Update   480  TrnNLL  188.251  TstNLL   24.209  TrnA 0.941  TstA 0.922\n",
      "Update   485  TrnNLL  188.193  TstNLL   24.199  TrnA 0.941  TstA 0.922\n",
      "Update   490  TrnNLL  176.191  TstNLL   22.245  TrnA 0.941  TstA 0.922\n",
      "Update   495  TrnNLL  170.312  TstNLL   22.782  TrnA 0.945  TstA 0.905\n",
      "Update   500  TrnNLL  170.059  TstNLL   22.822  TrnA 0.945  TstA 0.905\n",
      "Update   505  TrnNLL  168.818  TstNLL   22.867  TrnA 0.941  TstA 0.897\n",
      "Update   510  TrnNLL  155.477  TstNLL   24.830  TrnA 0.941  TstA 0.888\n",
      "Update   515  TrnNLL  157.198  TstNLL   23.660  TrnA 0.945  TstA 0.897\n",
      "Update   520  TrnNLL  156.466  TstNLL   23.555  TrnA 0.945  TstA 0.897\n",
      "Update   525  TrnNLL  155.872  TstNLL   23.371  TrnA 0.945  TstA 0.897\n",
      "Update   530  TrnNLL  155.645  TstNLL   23.403  TrnA 0.945  TstA 0.897\n",
      "Update   535  TrnNLL  155.591  TstNLL   23.438  TrnA 0.945  TstA 0.897\n",
      "Update   540  TrnNLL  155.501  TstNLL   23.430  TrnA 0.945  TstA 0.897\n",
      "Update   545  TrnNLL  155.518  TstNLL   23.417  TrnA 0.945  TstA 0.897\n",
      "Update   550  TrnNLL  145.094  TstNLL   25.834  TrnA 0.944  TstA 0.879\n",
      "Update   555  TrnNLL  145.508  TstNLL   25.964  TrnA 0.942  TstA 0.879\n",
      "Update   560  TrnNLL  140.089  TstNLL   24.763  TrnA 0.948  TstA 0.879\n",
      "Update   565  TrnNLL  138.357  TstNLL   23.228  TrnA 0.957  TstA 0.905\n",
      "Update   570  TrnNLL  136.350  TstNLL   23.014  TrnA 0.956  TstA 0.897\n",
      "Update   575  TrnNLL  135.054  TstNLL   22.746  TrnA 0.955  TstA 0.905\n",
      "Update   580  TrnNLL  135.004  TstNLL   22.755  TrnA 0.954  TstA 0.905\n",
      "Update   585  TrnNLL  130.762  TstNLL   23.134  TrnA 0.955  TstA 0.905\n",
      "Update   590  TrnNLL  129.563  TstNLL   23.089  TrnA 0.955  TstA 0.897\n",
      "Update   595  TrnNLL  132.610  TstNLL   22.659  TrnA 0.954  TstA 0.914\n",
      "Update   600  TrnNLL  132.680  TstNLL   22.569  TrnA 0.954  TstA 0.922\n",
      "Update   605  TrnNLL  132.057  TstNLL   22.638  TrnA 0.954  TstA 0.897\n",
      "Update   610  TrnNLL  131.154  TstNLL   22.344  TrnA 0.957  TstA 0.914\n",
      "Update   615  TrnNLL  131.141  TstNLL   22.342  TrnA 0.958  TstA 0.914\n",
      "Update   620  TrnNLL  131.133  TstNLL   21.907  TrnA 0.958  TstA 0.914\n",
      "Update   625  TrnNLL  137.285  TstNLL   21.713  TrnA 0.958  TstA 0.914\n",
      "Update   630  TrnNLL  133.080  TstNLL   21.577  TrnA 0.959  TstA 0.914\n",
      "Update   635  TrnNLL  133.013  TstNLL   21.576  TrnA 0.959  TstA 0.914\n",
      "Update   640  TrnNLL  132.809  TstNLL   21.564  TrnA 0.959  TstA 0.914\n",
      "Update   645  TrnNLL  130.864  TstNLL   21.676  TrnA 0.960  TstA 0.914\n",
      "Update   650  TrnNLL  129.429  TstNLL   21.864  TrnA 0.959  TstA 0.914\n",
      "Update   655  TrnNLL  128.870  TstNLL   21.817  TrnA 0.959  TstA 0.914\n",
      "Update   660  TrnNLL  133.679  TstNLL   20.800  TrnA 0.961  TstA 0.914\n",
      "Update   665  TrnNLL  131.601  TstNLL   20.876  TrnA 0.959  TstA 0.922\n",
      "Update   670  TrnNLL  131.413  TstNLL   20.944  TrnA 0.959  TstA 0.922\n",
      "Update   675  TrnNLL  131.647  TstNLL   20.923  TrnA 0.959  TstA 0.922\n",
      "Update   680  TrnNLL  132.109  TstNLL   20.818  TrnA 0.960  TstA 0.922\n",
      "Update   685  TrnNLL  127.836  TstNLL   21.624  TrnA 0.959  TstA 0.914\n",
      "Update   690  TrnNLL  127.715  TstNLL   21.614  TrnA 0.959  TstA 0.905\n",
      "Update   695  TrnNLL  131.305  TstNLL   22.001  TrnA 0.960  TstA 0.905\n",
      "Update   700  TrnNLL  133.736  TstNLL   21.150  TrnA 0.959  TstA 0.922\n",
      "Update   705  TrnNLL  136.663  TstNLL   20.812  TrnA 0.963  TstA 0.922\n",
      "Update   710  TrnNLL  136.354  TstNLL   20.807  TrnA 0.962  TstA 0.922\n",
      "Update   715  TrnNLL  135.339  TstNLL   20.280  TrnA 0.963  TstA 0.922\n",
      "Update   720  TrnNLL  133.338  TstNLL   20.199  TrnA 0.963  TstA 0.922\n",
      "Update   725  TrnNLL  134.612  TstNLL   20.171  TrnA 0.964  TstA 0.922\n",
      "Update   730  TrnNLL  128.871  TstNLL   20.228  TrnA 0.961  TstA 0.922\n",
      "Update   735  TrnNLL  129.387  TstNLL   20.097  TrnA 0.964  TstA 0.922\n",
      "Update   740  TrnNLL  127.842  TstNLL   20.146  TrnA 0.964  TstA 0.922\n",
      "Update   745  TrnNLL  130.949  TstNLL   20.083  TrnA 0.962  TstA 0.922\n",
      "Update   750  TrnNLL  136.453  TstNLL   20.925  TrnA 0.964  TstA 0.922\n",
      "Update   755  TrnNLL  158.279  TstNLL   29.029  TrnA 0.958  TstA 0.897\n",
      "Update   760  TrnNLL  139.781  TstNLL   24.889  TrnA 0.962  TstA 0.905\n",
      "Update   765  TrnNLL  159.053  TstNLL   29.578  TrnA 0.957  TstA 0.905\n",
      "Update   770  TrnNLL  148.473  TstNLL   27.177  TrnA 0.961  TstA 0.905\n",
      "Update   775  TrnNLL  148.612  TstNLL   27.198  TrnA 0.961  TstA 0.905\n",
      "Update   780  TrnNLL  141.136  TstNLL   25.903  TrnA 0.961  TstA 0.905\n",
      "Update   785  TrnNLL  128.661  TstNLL   23.618  TrnA 0.967  TstA 0.914\n",
      "Update   790  TrnNLL  128.673  TstNLL   23.621  TrnA 0.967  TstA 0.914\n",
      "Update   795  TrnNLL  123.968  TstNLL   21.742  TrnA 0.968  TstA 0.914\n",
      "Update   800  TrnNLL  123.482  TstNLL   21.516  TrnA 0.968  TstA 0.922\n",
      "Update   805  TrnNLL  123.772  TstNLL   21.742  TrnA 0.968  TstA 0.914\n",
      "Update   810  TrnNLL  119.053  TstNLL   20.478  TrnA 0.966  TstA 0.922\n",
      "Update   815  TrnNLL  118.624  TstNLL   19.923  TrnA 0.966  TstA 0.922\n",
      "Update   820  TrnNLL  117.534  TstNLL   20.051  TrnA 0.967  TstA 0.922\n",
      "Update   825  TrnNLL  118.363  TstNLL   19.376  TrnA 0.965  TstA 0.931\n",
      "Update   830  TrnNLL  123.441  TstNLL   19.875  TrnA 0.963  TstA 0.922\n",
      "Update   835  TrnNLL  123.637  TstNLL   19.882  TrnA 0.963  TstA 0.922\n",
      "Update   840  TrnNLL  119.462  TstNLL   19.866  TrnA 0.964  TstA 0.931\n",
      "Update   845  TrnNLL  119.202  TstNLL   19.685  TrnA 0.965  TstA 0.931\n",
      "Update   850  TrnNLL  116.679  TstNLL   19.688  TrnA 0.967  TstA 0.931\n",
      "Update   855  TrnNLL  108.172  TstNLL   21.451  TrnA 0.975  TstA 0.940\n",
      "Update   860  TrnNLL  107.999  TstNLL   20.064  TrnA 0.971  TstA 0.948\n",
      "Update   865  TrnNLL  107.717  TstNLL   20.106  TrnA 0.972  TstA 0.940\n",
      "Update   870  TrnNLL  108.572  TstNLL   19.797  TrnA 0.972  TstA 0.940\n",
      "Update   875  TrnNLL  108.785  TstNLL   19.322  TrnA 0.972  TstA 0.940\n",
      "Update   880  TrnNLL  107.094  TstNLL   18.955  TrnA 0.974  TstA 0.940\n",
      "Update   885  TrnNLL  105.080  TstNLL   19.019  TrnA 0.975  TstA 0.948\n",
      "Update   890  TrnNLL  104.330  TstNLL   19.039  TrnA 0.975  TstA 0.948\n",
      "Update   895  TrnNLL  110.075  TstNLL   18.461  TrnA 0.970  TstA 0.948\n",
      "Update   900  TrnNLL  130.832  TstNLL   20.679  TrnA 0.960  TstA 0.940\n",
      "Update   905  TrnNLL  115.301  TstNLL   19.353  TrnA 0.965  TstA 0.948\n",
      "Update   910  TrnNLL  114.615  TstNLL   19.328  TrnA 0.966  TstA 0.948\n",
      "Update   915  TrnNLL  114.587  TstNLL   19.326  TrnA 0.966  TstA 0.948\n",
      "Update   920  TrnNLL  115.316  TstNLL   19.547  TrnA 0.965  TstA 0.948\n",
      "Update   925  TrnNLL  124.619  TstNLL   21.412  TrnA 0.962  TstA 0.931\n",
      "Update   930  TrnNLL  105.102  TstNLL   20.468  TrnA 0.968  TstA 0.940\n",
      "Update   935  TrnNLL  102.532  TstNLL   19.808  TrnA 0.971  TstA 0.940\n",
      "Update   940  TrnNLL  101.332  TstNLL   19.718  TrnA 0.971  TstA 0.940\n",
      "Update   945  TrnNLL  100.378  TstNLL   19.647  TrnA 0.971  TstA 0.940\n",
      "Update   950  TrnNLL  100.691  TstNLL   19.693  TrnA 0.971  TstA 0.940\n",
      "Update   955  TrnNLL   98.377  TstNLL   19.574  TrnA 0.972  TstA 0.940\n",
      "Update   960  TrnNLL   93.729  TstNLL   19.339  TrnA 0.976  TstA 0.940\n",
      "Update   965  TrnNLL   88.778  TstNLL   19.788  TrnA 0.980  TstA 0.931\n",
      "Update   970  TrnNLL   88.494  TstNLL   20.662  TrnA 0.985  TstA 0.940\n",
      "Update   975  TrnNLL   89.425  TstNLL   20.959  TrnA 0.983  TstA 0.940\n",
      "Update   980  TrnNLL   89.498  TstNLL   20.869  TrnA 0.982  TstA 0.940\n",
      "Update   985  TrnNLL   89.499  TstNLL   20.870  TrnA 0.982  TstA 0.940\n",
      "Update   990  TrnNLL   89.713  TstNLL   20.914  TrnA 0.982  TstA 0.940\n",
      "Update   995  TrnNLL   89.200  TstNLL   20.769  TrnA 0.982  TstA 0.940\n",
      "Update  1000  TrnNLL   84.985  TstNLL   17.365  TrnA 0.984  TstA 0.940\n",
      "Update  1005  TrnNLL   85.112  TstNLL   17.424  TrnA 0.984  TstA 0.931\n",
      "Update  1010  TrnNLL   85.113  TstNLL   17.424  TrnA 0.984  TstA 0.931\n",
      "Update  1015  TrnNLL   78.870  TstNLL   16.715  TrnA 0.984  TstA 0.948\n",
      "Update  1020  TrnNLL   87.671  TstNLL   19.719  TrnA 0.984  TstA 0.922\n",
      "Update  1025  TrnNLL   94.347  TstNLL   21.910  TrnA 0.981  TstA 0.922\n",
      "Update  1030  TrnNLL   94.240  TstNLL   21.893  TrnA 0.981  TstA 0.922\n",
      "Update  1035  TrnNLL   94.226  TstNLL   21.932  TrnA 0.981  TstA 0.931\n",
      "Update  1040  TrnNLL   83.616  TstNLL   17.706  TrnA 0.983  TstA 0.940\n",
      "Update  1045  TrnNLL   93.557  TstNLL   17.784  TrnA 0.971  TstA 0.940\n",
      "Update  1050  TrnNLL   93.665  TstNLL   17.784  TrnA 0.971  TstA 0.940\n",
      "Update  1055  TrnNLL   93.547  TstNLL   17.778  TrnA 0.971  TstA 0.940\n",
      "Update  1060  TrnNLL   95.814  TstNLL   18.072  TrnA 0.970  TstA 0.940\n",
      "Update  1065  TrnNLL   81.684  TstNLL   17.551  TrnA 0.980  TstA 0.948\n",
      "Update  1070  TrnNLL   74.128  TstNLL   16.582  TrnA 0.984  TstA 0.948\n"
     ]
    }
   ],
   "source": [
    "lr = LogReg(train_set, test_set, lam=0, eta=0.1)\n",
    "lr.train(isVerbose=True)"
   ]
  },
  {
   "cell_type": "markdown",
   "metadata": {},
   "source": [
    "The unit tests are located in the script `tests.py` in this directory.  Execute the following cell to call the script and run the tests. "
   ]
  },
  {
   "cell_type": "code",
   "execution_count": 60,
   "metadata": {},
   "outputs": [
    {
     "name": "stderr",
     "output_type": "stream",
     "text": [
      "test_unreg (__main__.TestLogReg) ... ok\n",
      "test_learnrate (__main__.TestLogReg) ... ok\n",
      "\n",
      "----------------------------------------------------------------------\n",
      "Ran 2 tests in 0.004s\n",
      "\n",
      "OK\n"
     ]
    }
   ],
   "source": [
    "%run -i tests.py \"part A\""
   ]
  },
  {
   "cell_type": "markdown",
   "metadata": {},
   "source": [
    "**Part B**: After your unregularized updates are working, modify the `sgd_update` function again to perform regularized updates using **Lazy Sparse Regularization**. Note that you should not regularize the bias weight. See the Lecture 4 in-class notebook for a refresher on LSR. **Note**: After implementing LSR, your code should still pass the unit tests for **Part A** when `lam = 0`. \n",
    "\n",
    "We've given you a third unit test in the next cell called `test_reg` based on the simple example of LSR worked out in  the Lecture 4 in-class notebook.  Do not move on to **Problem 3** until your code passes the test. "
   ]
  },
  {
   "cell_type": "code",
   "execution_count": 66,
   "metadata": {},
   "outputs": [
    {
     "name": "stderr",
     "output_type": "stream",
     "text": [
      "test_reg (__main__.TestLogReg) ... ok\n",
      "\n",
      "----------------------------------------------------------------------\n",
      "Ran 1 test in 0.002s\n",
      "\n",
      "OK\n"
     ]
    },
    {
     "data": {
      "text/plain": [
       "<matplotlib.figure.Figure at 0x1cc5ca04be0>"
      ]
     },
     "metadata": {},
     "output_type": "display_data"
    }
   ],
   "source": [
    "%run -i tests.py \"part B\""
   ]
  },
  {
   "cell_type": "markdown",
   "metadata": {},
   "source": [
    "### [10 points] Problem 3: Hyperparameter Tuning \n",
    "***\n",
    "\n",
    "**Part A**: Perform a systematic study of the effect of the regularization parameter on the accuracy of your classifier on the test set.  Which choice of `lam` seems to do the best?  Justify your conclusion with some kind of graphic. "
   ]
  },
  {
   "cell_type": "code",
   "execution_count": 62,
   "metadata": {
    "collapsed": true
   },
   "outputs": [
    {
     "name": "stdout",
     "output_type": "stream",
     "text": [
      "0.9310344827586207\n",
      "0.46551724137931033\n",
      "0.5344827586206896\n",
      "0.5344827586206896\n",
      "0.46551724137931033\n",
      "0.46551724137931033\n",
      "0.5344827586206896\n",
      "0.5344827586206896\n",
      "0.5344827586206896\n",
      "0.46551724137931033\n",
      "0.46551724137931033\n"
     ]
    }
   ],
   "source": [
    "accuracy_measure={}\n",
    "reg_param=[0, 0.1, 0.2, 0.3, 0.4, 0.5, 0.6, 0.7, 0.8, 0.9, 1]\n",
    "for lmda in reg_param:\n",
    "    l = LogReg(train_set, test_set, lmda, eta= 0.1)\n",
    "    l.train()\n",
    "    accuracy_measure[lmda]=l.test_acc\n",
    "    print(l.test_acc[-1])"
   ]
  },
  {
   "cell_type": "code",
   "execution_count": 63,
   "metadata": {},
   "outputs": [
    {
     "data": {
      "image/png": "[encoded data removed]",
      "text/plain": [
       "<matplotlib.figure.Figure at 0x1cc577d7860>"
      ]
     },
     "metadata": {},
     "output_type": "display_data"
    }
   ],
   "source": [
    "x = np.arange(len(accuracy_measure[0]))\n",
    "lab = []\n",
    "plts = []\n",
    "for i in accuracy_measure:\n",
    "    j,  = plt.plot(x*5, accuracy_measure[i])\n",
    "    plts.append(j)\n",
    "    lab.append('eta = %f' %(i))\n",
    "\n",
    "plt.legend(plts,lab)\n",
    "plt.show()"
   ]
  },
  {
   "cell_type": "markdown",
   "metadata": {},
   "source": [
    "### [10 points] Problem 4: Identifying Predictive and Non-Predictive Words \n",
    "***\n",
    "\n",
    "**Part A**: Find the top 10 words that are the best predictors for each class.  Explain mathematically how you identified them and show any code that you used to find them. "
   ]
  },
  {
   "cell_type": "code",
   "execution_count": 64,
   "metadata": {},
   "outputs": [
    {
     "name": "stdout",
     "output_type": "stream",
     "text": [
      "Automobiles\n",
      "car -1.56592709171\n",
      "cars -0.856103749788\n",
      "truck -0.850476378035\n",
      "spring -0.807099318127\n",
      "pack -0.684955187741\n",
      "radar -0.676887218146\n",
      "ford -0.6643237628\n",
      "oil -0.658482508263\n",
      "wheel -0.648529845545\n",
      "warning -0.57843617933\n",
      "problem -0.559168227221\n",
      "\n",
      "\n",
      "\n",
      "Motorcycles\n",
      "dod 2.13431160251\n",
      "bike 2.12016074587\n",
      "mm 1.41842716756\n",
      "bikes 1.27953600957\n",
      "riding 1.10433971744\n",
      "ride 1.01178541872\n",
      "rider 0.852626445566\n",
      "neck 0.830355509711\n",
      "49 0.803885763487\n",
      "helmet 0.80251928321\n",
      "jonathan 0.722576216602\n"
     ]
    }
   ],
   "source": [
    "lr = LogReg(train_set, test_set, lam=0, eta=0.1)\n",
    "lr.train()\n",
    "w = {}\n",
    "for index,weight in enumerate(lr.w):\n",
    "    w[index] = weight\n",
    "s_weight = sorted(w.items(), key=lambda x: x[1])\n",
    "\n",
    "print('Automobiles')\n",
    "for i in range(0,11):\n",
    "    print(vocab[s_weight[i][0]],s_weight[i][1])\n",
    "print('\\n\\n')\n",
    "print('Motorcycles')    \n",
    "for i in range(0,11):\n",
    "    print(vocab[s_weight[len(s_weight) - i-1][0]],s_weight[len(s_weight) - i-1][1])"
   ]
  },
  {
   "cell_type": "markdown",
   "metadata": {},
   "source": [
    "All the wieghts that are most negative are best predictors of automobiles as negative class is that of automobiles. Whereas for that of motorcycles, the most positive weighted words indicate that they are in the positive label."
   ]
  },
  {
   "cell_type": "markdown",
   "metadata": {},
   "source": [
    "**Part B**: Find the 10 words that are the worst predictors for class.  Explain mathematically how you identified them and show any code that you used to find them. "
   ]
  },
  {
   "cell_type": "code",
   "execution_count": 65,
   "metadata": {
    "collapsed": true
   },
   "outputs": [
    {
     "name": "stdout",
     "output_type": "stream",
     "text": [
      "Worst predictors in general\n",
      "goal -2.57414960534e-06\n",
      "traded -1.99692396009e-06\n",
      "offenders -1.54356582261e-06\n",
      "hostility -1.4890430743e-06\n",
      "outer -1.34472797219e-06\n",
      "inner -1.34335363454e-06\n",
      "disciplined -4.8506911012e-07\n",
      "fences -4.56497113765e-07\n",
      "comprising -4.27925117411e-07\n",
      "predictable -4.26550779767e-07\n"
     ]
    }
   ],
   "source": [
    "avg = round(len(vocab)/2)\n",
    "print('Worst predictors in general')  \n",
    "for i in range(-5,5):\n",
    "    print(vocab[s_weight[avg+i][0]],s_weight[avg+i][1])"
   ]
  }
 ],
 "metadata": {
  "kernelspec": {
   "display_name": "Python 3",
   "language": "python",
   "name": "python3"
  },
  "language_info": {
   "codemirror_mode": {
    "name": "ipython",
    "version": 3
   },
   "file_extension": ".py",
   "mimetype": "text/x-python",
   "name": "python",
   "nbconvert_exporter": "python",
   "pygments_lexer": "ipython3",
   "version": "3.6.3"
  }
 },
 "nbformat": 4,
 "nbformat_minor": 2
}
